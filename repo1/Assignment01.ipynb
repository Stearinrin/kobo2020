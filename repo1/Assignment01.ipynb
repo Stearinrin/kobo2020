{
 "cells": [
  {
   "cell_type": "markdown",
   "metadata": {},
   "source": [
    "# 情報工学工房 第一回レポート課題"
   ]
  },
  {
   "cell_type": "markdown",
   "metadata": {},
   "source": [
    "## 課題\n",
    "\n",
    "|x1|x2|AND|NAND|OR|XOR|\n",
    "|:---|:---|:---|:---|:---|:---|\n",
    "|0|0|0|1|0|0|\n",
    "|0|1|0|1|1|1|\n",
    "|1|0|0|1|1|1|\n",
    "|1|1|1|0|1|0|\n",
    "\n",
    "1. AND回路，NAND回路，OR回路を単純パーセプトロンにより表現する関数を実装し、真理値表通り出力されるか確認する。\n",
    "関数名はそれぞれAND(x1, x2), NAND(x1, x2), OR(x1, x2)として、numpy配列を引数に取れるようにする。\n",
    "2. 上記で実装した関数の組み合わせにより、XOR回路を実装し、真理値表通り出力されるか確認する。\n",
    "  関数名は、XOR(x1, x2)として、numpy配列を引数に取れるようにする。"
   ]
  },
  {
   "cell_type": "markdown",
   "metadata": {},
   "source": [
    "## 回答"
   ]
  },
  {
   "cell_type": "markdown",
   "metadata": {},
   "source": [
    "単純パーセプトロンによって表現したAND回路, NAND回路, OR回路及びそれらを用いて実装したXOR回路は次の通り。"
   ]
  },
  {
   "cell_type": "code",
   "execution_count": 84,
   "metadata": {},
   "outputs": [
    {
     "name": "stdout",
     "output_type": "stream",
     "text": [
      "\n",
      "AND:\n",
      "\t(0, 0) -> 0\n",
      "\t(1, 0) -> 0\n",
      "\t(0, 1) -> 0\n",
      "\t(1, 1) -> 1\n",
      "\n",
      "NAND:\n",
      "\t(0, 0) -> 1\n",
      "\t(1, 0) -> 1\n",
      "\t(0, 1) -> 1\n",
      "\t(1, 1) -> 0\n",
      "\n",
      "OR:\n",
      "\t(0, 0) -> 0\n",
      "\t(1, 0) -> 1\n",
      "\t(0, 1) -> 1\n",
      "\t(1, 1) -> 1\n",
      "\n",
      "XOR:\n",
      "\t(0, 0) -> 0\n",
      "\t(1, 0) -> 1\n",
      "\t(0, 1) -> 1\n",
      "\t(1, 1) -> 0\n"
     ]
    }
   ],
   "source": [
    "import numpy as np\n",
    "\n",
    "# AND circuit\n",
    "def AND(xs):\n",
    "    ## 0.5 * x1 + 0.5 * x2 - 0.7\n",
    "    x = np.array(xs)\n",
    "    w = np.array([0.5, 0.5])\n",
    "    b = -0.7\n",
    "    y = np.sum(w*x) + b\n",
    "    return np.where(y <= 0, 0, 1)\n",
    "\n",
    "# NAND circuit\n",
    "def NAND(xs):\n",
    "    ## (-0.5) * x1 + (-0.5) * x2 + 0.7\n",
    "    x = np.array(xs)\n",
    "    w = np.array([-0.5, -0.5])\n",
    "    b = 0.7\n",
    "    y = np.sum(w*x) + b\n",
    "    return np.where(y <= 0, 0, 1)\n",
    "\n",
    "# OR circuit\n",
    "def OR(xs):\n",
    "    ## 0.5 * x1 + 0.5 * x2 - 0.2\n",
    "    x = np.array(xs)\n",
    "    w = np.array([0.5, 0.5])\n",
    "    b = -0.2\n",
    "    y = np.sum(w*x) + b\n",
    "    return np.where(y <= 0, 0, 1)\n",
    "\n",
    "# XOR circuit\n",
    "def XOR(xs):\n",
    "    ## AND(NAND(x1,x2),OR(x1,x2))\n",
    "    x = np.array(xs)\n",
    "    return AND(np.array([NAND(x), OR(x)]))\n",
    "\n",
    "# main\n",
    "# Outputs results for each circuit\n",
    "if __name__ == '__main__':\n",
    "    xss = [(0, 0), (1, 0), (0, 1), (1, 1)]\n",
    "    print(\"\\nAND:\")\n",
    "    for xs in xss:\n",
    "        print(\"\\t\" + str(xs) + \" -> \" + str(AND(xs)))\n",
    "    print(\"\\nNAND:\")\n",
    "    for xs in xss:\n",
    "        print(\"\\t\" + str(xs) + \" -> \" + str(NAND(xs)))\n",
    "    print(\"\\nOR:\")\n",
    "    for xs in xss:\n",
    "        print(\"\\t\" + str(xs) + \" -> \" + str(OR(xs)))\n",
    "    print(\"\\nXOR:\")\n",
    "    for xs in xss:\n",
    "        print(\"\\t\" + str(xs) + \" -> \" + str(XOR(xs)))"
   ]
  },
  {
   "cell_type": "markdown",
   "metadata": {},
   "source": [
    "以上の結果から、numpy配列を引数として、単純パーセプトロンを用いるAND, NAND, OR回路及び多層パーセプトロンを用いるXOR回路の実装ができたといえる。"
   ]
  },
  {
   "cell_type": "markdown",
   "metadata": {},
   "source": [
    "## 感想\n",
    "\n",
    "- パーセプトロンについて知ってはいたが、こうして自分でコードを書き実行することで改めてよく理解することができたと思う\n",
    "- Pythonはそれなりに綺麗な書き方にできるので後で見返した時にも可読性があり良いと思った\n",
    "- 論理回路を自分で実装するという面でFPGAと似てると感じた"
   ]
  },
  {
   "cell_type": "markdown",
   "metadata": {},
   "source": [
    "## 参考\n",
    "- http://pr.cei.uec.ac.jp/kobo2020/index.php?Pytorch%E3%81%AB%E3%82%88%E3%82%8B%E6%B7%B1%E5%B1%A4%E5%AD%A6%E7%BF%92%20%E7%94%BB%E5%83%8F%E8%AA%8D%E8%AD%98%E3%83%BB%E7%94%9F%E6%88%90\n",
    "- https://docs.python.org/3.5/\n",
    "- https://numpy.org/doc/stable/reference/?v=20200607151234"
   ]
  }
 ],
 "metadata": {
  "kernelspec": {
   "display_name": "Python 3",
   "language": "python",
   "name": "python3"
  },
  "language_info": {
   "codemirror_mode": {
    "name": "ipython",
    "version": 3
   },
   "file_extension": ".py",
   "mimetype": "text/x-python",
   "name": "python",
   "nbconvert_exporter": "python",
   "pygments_lexer": "ipython3",
   "version": "3.5.6"
  }
 },
 "nbformat": 4,
 "nbformat_minor": 2
}
